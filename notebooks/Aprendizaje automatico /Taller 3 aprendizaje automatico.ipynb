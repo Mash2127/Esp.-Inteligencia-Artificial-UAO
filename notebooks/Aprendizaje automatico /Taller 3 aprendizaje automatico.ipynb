{
 "cells": [
  {
   "cell_type": "markdown",
   "metadata": {},
   "source": [
    "# TALLER 3.  INTELITENCIA ARTIFICIAL  "
   ]
  },
  {
   "cell_type": "markdown",
   "metadata": {},
   "source": [
    "1. DESCARCAR DATA SET DE CANCER DE MAMA  WISCONSIN "
   ]
  },
  {
   "cell_type": "code",
   "execution_count": 46,
   "metadata": {},
   "outputs": [
    {
     "name": "stdout",
     "output_type": "stream",
     "text": [
      "Requirement already satisfied: ucimlrepo in /Users/miguelangel/Documents/inteligencia artificial/REPOSITORIOS/UAO Inteligencia artificial/Esp.-Inteligencia-Artificial-UAO/.venv/lib/python3.12/site-packages (0.0.3)\n",
      "Note: you may need to restart the kernel to use updated packages.\n"
     ]
    }
   ],
   "source": [
    "pip install ucimlrepo"
   ]
  },
  {
   "cell_type": "markdown",
   "metadata": {},
   "source": [
    "# Procesamiento de datos para un conjunto de datos como el del cáncer de mama de Wisconsin "
   ]
  },
  {
   "cell_type": "markdown",
   "metadata": {},
   "source": [
    "# Comprensión del Problema"
   ]
  },
  {
   "cell_type": "markdown",
   "metadata": {},
   "source": [
    "# OBJETIVO: \n",
    "Predecir si las células descritas en el conjunto de datos representan un tumor maligno o benigno.\n",
    "\n"
   ]
  },
  {
   "cell_type": "markdown",
   "metadata": {},
   "source": [
    "# Identificar datos claves y depruación de datos"
   ]
  },
  {
   "cell_type": "markdown",
   "metadata": {},
   "source": []
  },
  {
   "cell_type": "code",
   "execution_count": 47,
   "metadata": {},
   "outputs": [],
   "source": [
    "import pandas as pd"
   ]
  },
  {
   "cell_type": "markdown",
   "metadata": {},
   "source": [
    "# En este momento el servidor quedo fuera de servicio , asi que use  el archivo descargado en mi computadora "
   ]
  },
  {
   "cell_type": "code",
   "execution_count": 48,
   "metadata": {},
   "outputs": [],
   "source": [
    "\n",
    "\n",
    "# Ruta al archivo descargado\n",
    "file_path = '/Users/miguelangel/Documents/inteligencia artificial/REPOSITORIOS/UAO Inteligencia artificial/Esp.-Inteligencia-Artificial-UAO/data/breast+cancer+wisconsin+diagnostic/wdbc.data'\n",
    "\n",
    "\n"
   ]
  },
  {
   "cell_type": "code",
   "execution_count": 49,
   "metadata": {},
   "outputs": [
    {
     "name": "stdout",
     "output_type": "stream",
     "text": [
      "         0  1      2      3       4       5        6        7       8   \\\n",
      "0    842302  M  17.99  10.38  122.80  1001.0  0.11840  0.27760  0.3001   \n",
      "1    842517  M  20.57  17.77  132.90  1326.0  0.08474  0.07864  0.0869   \n",
      "2  84300903  M  19.69  21.25  130.00  1203.0  0.10960  0.15990  0.1974   \n",
      "3  84348301  M  11.42  20.38   77.58   386.1  0.14250  0.28390  0.2414   \n",
      "4  84358402  M  20.29  14.34  135.10  1297.0  0.10030  0.13280  0.1980   \n",
      "\n",
      "        9   ...     22     23      24      25      26      27      28      29  \\\n",
      "0  0.14710  ...  25.38  17.33  184.60  2019.0  0.1622  0.6656  0.7119  0.2654   \n",
      "1  0.07017  ...  24.99  23.41  158.80  1956.0  0.1238  0.1866  0.2416  0.1860   \n",
      "2  0.12790  ...  23.57  25.53  152.50  1709.0  0.1444  0.4245  0.4504  0.2430   \n",
      "3  0.10520  ...  14.91  26.50   98.87   567.7  0.2098  0.8663  0.6869  0.2575   \n",
      "4  0.10430  ...  22.54  16.67  152.20  1575.0  0.1374  0.2050  0.4000  0.1625   \n",
      "\n",
      "       30       31  \n",
      "0  0.4601  0.11890  \n",
      "1  0.2750  0.08902  \n",
      "2  0.3613  0.08758  \n",
      "3  0.6638  0.17300  \n",
      "4  0.2364  0.07678  \n",
      "\n",
      "[5 rows x 32 columns]\n"
     ]
    }
   ],
   "source": [
    "try:\n",
    "    # Suponiendo que es un CSV sin encabezado\n",
    "    data = pd.read_csv(file_path, header=None)\n",
    "    print(data.head())  # Para verificar que los datos se han cargado correctamente\n",
    "except FileNotFoundError:\n",
    "    print(f\"No se encontró el archivo en la ruta {file_path}\")\n",
    "except Exception as e:\n",
    "    print(f\"Se produjo un error: {e}\")"
   ]
  },
  {
   "cell_type": "markdown",
   "metadata": {},
   "source": [
    "# 1. Ver las primeras y últimas filas del DataFrame"
   ]
  },
  {
   "cell_type": "code",
   "execution_count": 50,
   "metadata": {},
   "outputs": [
    {
     "name": "stdout",
     "output_type": "stream",
     "text": [
      "         0  1      2      3       4       5        6        7       8   \\\n",
      "0    842302  M  17.99  10.38  122.80  1001.0  0.11840  0.27760  0.3001   \n",
      "1    842517  M  20.57  17.77  132.90  1326.0  0.08474  0.07864  0.0869   \n",
      "2  84300903  M  19.69  21.25  130.00  1203.0  0.10960  0.15990  0.1974   \n",
      "3  84348301  M  11.42  20.38   77.58   386.1  0.14250  0.28390  0.2414   \n",
      "4  84358402  M  20.29  14.34  135.10  1297.0  0.10030  0.13280  0.1980   \n",
      "\n",
      "        9   ...     22     23      24      25      26      27      28      29  \\\n",
      "0  0.14710  ...  25.38  17.33  184.60  2019.0  0.1622  0.6656  0.7119  0.2654   \n",
      "1  0.07017  ...  24.99  23.41  158.80  1956.0  0.1238  0.1866  0.2416  0.1860   \n",
      "2  0.12790  ...  23.57  25.53  152.50  1709.0  0.1444  0.4245  0.4504  0.2430   \n",
      "3  0.10520  ...  14.91  26.50   98.87   567.7  0.2098  0.8663  0.6869  0.2575   \n",
      "4  0.10430  ...  22.54  16.67  152.20  1575.0  0.1374  0.2050  0.4000  0.1625   \n",
      "\n",
      "       30       31  \n",
      "0  0.4601  0.11890  \n",
      "1  0.2750  0.08902  \n",
      "2  0.3613  0.08758  \n",
      "3  0.6638  0.17300  \n",
      "4  0.2364  0.07678  \n",
      "\n",
      "[5 rows x 32 columns]\n",
      "         0  1      2      3       4       5        6        7        8   \\\n",
      "564  926424  M  21.56  22.39  142.00  1479.0  0.11100  0.11590  0.24390   \n",
      "565  926682  M  20.13  28.25  131.20  1261.0  0.09780  0.10340  0.14400   \n",
      "566  926954  M  16.60  28.08  108.30   858.1  0.08455  0.10230  0.09251   \n",
      "567  927241  M  20.60  29.33  140.10  1265.0  0.11780  0.27700  0.35140   \n",
      "568   92751  B   7.76  24.54   47.92   181.0  0.05263  0.04362  0.00000   \n",
      "\n",
      "          9   ...      22     23      24      25       26       27      28  \\\n",
      "564  0.13890  ...  25.450  26.40  166.10  2027.0  0.14100  0.21130  0.4107   \n",
      "565  0.09791  ...  23.690  38.25  155.00  1731.0  0.11660  0.19220  0.3215   \n",
      "566  0.05302  ...  18.980  34.12  126.70  1124.0  0.11390  0.30940  0.3403   \n",
      "567  0.15200  ...  25.740  39.42  184.60  1821.0  0.16500  0.86810  0.9387   \n",
      "568  0.00000  ...   9.456  30.37   59.16   268.6  0.08996  0.06444  0.0000   \n",
      "\n",
      "         29      30       31  \n",
      "564  0.2216  0.2060  0.07115  \n",
      "565  0.1628  0.2572  0.06637  \n",
      "566  0.1418  0.2218  0.07820  \n",
      "567  0.2650  0.4087  0.12400  \n",
      "568  0.0000  0.2871  0.07039  \n",
      "\n",
      "[5 rows x 32 columns]\n"
     ]
    }
   ],
   "source": [
    "print(data.head())  # Ver las primeras 5 filas\n",
    "print(data.tail())  # Ver las últimas 5 filas\n"
   ]
  },
  {
   "cell_type": "markdown",
   "metadata": {},
   "source": [
    "# Las primeras filas muestran variedad en las mediciones y el diagnóstico (M para maligno y B para benigno), lo que indica que el conjunto de datos contiene una mezcla de casos.\n",
    "Las últimas filas confirman que los datos están completos hasta el final del conjunto, sin filas completamente vacías o en blanco."
   ]
  },
  {
   "cell_type": "markdown",
   "metadata": {},
   "source": [
    "# 2.Resumen del DataFrame"
   ]
  },
  {
   "cell_type": "code",
   "execution_count": 51,
   "metadata": {},
   "outputs": [
    {
     "name": "stdout",
     "output_type": "stream",
     "text": [
      "<class 'pandas.core.frame.DataFrame'>\n",
      "RangeIndex: 569 entries, 0 to 568\n",
      "Data columns (total 32 columns):\n",
      " #   Column  Non-Null Count  Dtype  \n",
      "---  ------  --------------  -----  \n",
      " 0   0       569 non-null    int64  \n",
      " 1   1       569 non-null    object \n",
      " 2   2       569 non-null    float64\n",
      " 3   3       569 non-null    float64\n",
      " 4   4       569 non-null    float64\n",
      " 5   5       569 non-null    float64\n",
      " 6   6       569 non-null    float64\n",
      " 7   7       569 non-null    float64\n",
      " 8   8       569 non-null    float64\n",
      " 9   9       569 non-null    float64\n",
      " 10  10      569 non-null    float64\n",
      " 11  11      569 non-null    float64\n",
      " 12  12      569 non-null    float64\n",
      " 13  13      569 non-null    float64\n",
      " 14  14      569 non-null    float64\n",
      " 15  15      569 non-null    float64\n",
      " 16  16      569 non-null    float64\n",
      " 17  17      569 non-null    float64\n",
      " 18  18      569 non-null    float64\n",
      " 19  19      569 non-null    float64\n",
      " 20  20      569 non-null    float64\n",
      " 21  21      569 non-null    float64\n",
      " 22  22      569 non-null    float64\n",
      " 23  23      569 non-null    float64\n",
      " 24  24      569 non-null    float64\n",
      " 25  25      569 non-null    float64\n",
      " 26  26      569 non-null    float64\n",
      " 27  27      569 non-null    float64\n",
      " 28  28      569 non-null    float64\n",
      " 29  29      569 non-null    float64\n",
      " 30  30      569 non-null    float64\n",
      " 31  31      569 non-null    float64\n",
      "dtypes: float64(30), int64(1), object(1)\n",
      "memory usage: 142.4+ KB\n",
      "None\n"
     ]
    }
   ],
   "source": [
    "print(data.info())  # Información general del DataFrame, incluyendo el tipo de datos y los valores no nulos\n"
   ]
  },
  {
   "cell_type": "markdown",
   "metadata": {},
   "source": [
    "El DataFrame tiene 569 entradas y 32 columnas.\n",
    "Todas las columnas, excepto una (la columna de diagnóstico), son numéricas, con la columna de diagnóstico siendo categórica (objetos).\n",
    "No hay valores nulos en el conjunto de datos, lo que significa que está completo y listo para el análisis sin necesidad de imputación."
   ]
  },
  {
   "cell_type": "markdown",
   "metadata": {},
   "source": [
    "# 3. Descripción Estadística de los Datos Numéricos"
   ]
  },
  {
   "cell_type": "code",
   "execution_count": 52,
   "metadata": {},
   "outputs": [
    {
     "name": "stdout",
     "output_type": "stream",
     "text": [
      "                 0           2           3           4            5   \\\n",
      "count  5.690000e+02  569.000000  569.000000  569.000000   569.000000   \n",
      "mean   3.037183e+07   14.127292   19.289649   91.969033   654.889104   \n",
      "std    1.250206e+08    3.524049    4.301036   24.298981   351.914129   \n",
      "min    8.670000e+03    6.981000    9.710000   43.790000   143.500000   \n",
      "25%    8.692180e+05   11.700000   16.170000   75.170000   420.300000   \n",
      "50%    9.060240e+05   13.370000   18.840000   86.240000   551.100000   \n",
      "75%    8.813129e+06   15.780000   21.800000  104.100000   782.700000   \n",
      "max    9.113205e+08   28.110000   39.280000  188.500000  2501.000000   \n",
      "\n",
      "               6           7           8           9           10  ...  \\\n",
      "count  569.000000  569.000000  569.000000  569.000000  569.000000  ...   \n",
      "mean     0.096360    0.104341    0.088799    0.048919    0.181162  ...   \n",
      "std      0.014064    0.052813    0.079720    0.038803    0.027414  ...   \n",
      "min      0.052630    0.019380    0.000000    0.000000    0.106000  ...   \n",
      "25%      0.086370    0.064920    0.029560    0.020310    0.161900  ...   \n",
      "50%      0.095870    0.092630    0.061540    0.033500    0.179200  ...   \n",
      "75%      0.105300    0.130400    0.130700    0.074000    0.195700  ...   \n",
      "max      0.163400    0.345400    0.426800    0.201200    0.304000  ...   \n",
      "\n",
      "               22          23          24           25          26  \\\n",
      "count  569.000000  569.000000  569.000000   569.000000  569.000000   \n",
      "mean    16.269190   25.677223  107.261213   880.583128    0.132369   \n",
      "std      4.833242    6.146258   33.602542   569.356993    0.022832   \n",
      "min      7.930000   12.020000   50.410000   185.200000    0.071170   \n",
      "25%     13.010000   21.080000   84.110000   515.300000    0.116600   \n",
      "50%     14.970000   25.410000   97.660000   686.500000    0.131300   \n",
      "75%     18.790000   29.720000  125.400000  1084.000000    0.146000   \n",
      "max     36.040000   49.540000  251.200000  4254.000000    0.222600   \n",
      "\n",
      "               27          28          29          30          31  \n",
      "count  569.000000  569.000000  569.000000  569.000000  569.000000  \n",
      "mean     0.254265    0.272188    0.114606    0.290076    0.083946  \n",
      "std      0.157336    0.208624    0.065732    0.061867    0.018061  \n",
      "min      0.027290    0.000000    0.000000    0.156500    0.055040  \n",
      "25%      0.147200    0.114500    0.064930    0.250400    0.071460  \n",
      "50%      0.211900    0.226700    0.099930    0.282200    0.080040  \n",
      "75%      0.339100    0.382900    0.161400    0.317900    0.092080  \n",
      "max      1.058000    1.252000    0.291000    0.663800    0.207500  \n",
      "\n",
      "[8 rows x 31 columns]\n"
     ]
    }
   ],
   "source": [
    "print(data.describe())  # Estadísticas descriptivas para las columnas numéricas\n"
   ]
  },
  {
   "cell_type": "markdown",
   "metadata": {},
   "source": [
    "Las columnas numéricas varían en rangos, indicando diferentes tipos de mediciones.\n",
    "La estadística descriptiva proporciona un buen punto de partida para la normalización de los datos, necesaria para algunos algoritmos de aprendizaje automático."
   ]
  },
  {
   "cell_type": "markdown",
   "metadata": {},
   "source": [
    "# 4. Contar Valores Faltantes"
   ]
  },
  {
   "cell_type": "code",
   "execution_count": 53,
   "metadata": {},
   "outputs": [
    {
     "name": "stdout",
     "output_type": "stream",
     "text": [
      "0     0\n",
      "1     0\n",
      "2     0\n",
      "3     0\n",
      "4     0\n",
      "5     0\n",
      "6     0\n",
      "7     0\n",
      "8     0\n",
      "9     0\n",
      "10    0\n",
      "11    0\n",
      "12    0\n",
      "13    0\n",
      "14    0\n",
      "15    0\n",
      "16    0\n",
      "17    0\n",
      "18    0\n",
      "19    0\n",
      "20    0\n",
      "21    0\n",
      "22    0\n",
      "23    0\n",
      "24    0\n",
      "25    0\n",
      "26    0\n",
      "27    0\n",
      "28    0\n",
      "29    0\n",
      "30    0\n",
      "31    0\n",
      "dtype: int64\n"
     ]
    }
   ],
   "source": [
    "print(data.isnull().sum())  # Contar valores nulos en cada columna\n"
   ]
  },
  {
   "cell_type": "markdown",
   "metadata": {},
   "source": [
    "No hay valores faltantes en el conjunto de datos, lo cual es ideal para un análisis sin complicaciones adicionales."
   ]
  },
  {
   "cell_type": "markdown",
   "metadata": {},
   "source": [
    "5. Identificar Valores unicos "
   ]
  },
  {
   "cell_type": "code",
   "execution_count": 54,
   "metadata": {},
   "outputs": [
    {
     "name": "stdout",
     "output_type": "stream",
     "text": [
      "0: 569 valores únicos\n",
      "1: 2 valores únicos\n",
      "2: 456 valores únicos\n",
      "3: 479 valores únicos\n",
      "4: 522 valores únicos\n",
      "5: 539 valores únicos\n",
      "6: 474 valores únicos\n",
      "7: 537 valores únicos\n",
      "8: 537 valores únicos\n",
      "9: 542 valores únicos\n",
      "10: 432 valores únicos\n",
      "11: 499 valores únicos\n",
      "12: 540 valores únicos\n",
      "13: 519 valores únicos\n",
      "14: 533 valores únicos\n",
      "15: 528 valores únicos\n",
      "16: 547 valores únicos\n",
      "17: 541 valores únicos\n",
      "18: 533 valores únicos\n",
      "19: 507 valores únicos\n",
      "20: 498 valores únicos\n",
      "21: 545 valores únicos\n",
      "22: 457 valores únicos\n",
      "23: 511 valores únicos\n",
      "24: 514 valores únicos\n",
      "25: 544 valores únicos\n",
      "26: 411 valores únicos\n",
      "27: 529 valores únicos\n",
      "28: 539 valores únicos\n",
      "29: 492 valores únicos\n",
      "30: 500 valores únicos\n",
      "31: 535 valores únicos\n"
     ]
    }
   ],
   "source": [
    "for column in data.columns:\n",
    "    print(f\"{column}: {data[column].nunique()} valores únicos\")  # Ver la cantidad de valores únicos por columna\n"
   ]
  },
  {
   "cell_type": "markdown",
   "metadata": {},
   "source": [
    "Los valores únicos por columna varían, indicando una buena variedad en las mediciones. La columna de diagnóstico tiene 2 valores únicos, como se esperaba (M y B)."
   ]
  },
  {
   "cell_type": "markdown",
   "metadata": {},
   "source": [
    "# 6. Comprobar Duplicados"
   ]
  },
  {
   "cell_type": "code",
   "execution_count": 55,
   "metadata": {},
   "outputs": [
    {
     "name": "stdout",
     "output_type": "stream",
     "text": [
      "0\n"
     ]
    }
   ],
   "source": [
    "print(data.duplicated().sum())  # Contar filas duplicadas\n"
   ]
  },
  {
   "cell_type": "markdown",
   "metadata": {},
   "source": [
    "No se encontraron filas duplicadas en el conjunto de datos, lo que es positivo para la integridad de los datos."
   ]
  },
  {
   "cell_type": "markdown",
   "metadata": {},
   "source": [
    "7. Análisis de la Distribución de Variables Categóricas"
   ]
  },
  {
   "cell_type": "code",
   "execution_count": 56,
   "metadata": {},
   "outputs": [
    {
     "name": "stdout",
     "output_type": "stream",
     "text": [
      "1\n",
      "B    357\n",
      "M    212\n",
      "Name: count, dtype: int64\n"
     ]
    }
   ],
   "source": [
    "print(data[1].value_counts())\n"
   ]
  },
  {
   "cell_type": "markdown",
   "metadata": {},
   "source": [
    "Hay 357 casos etiquetados como benignos (B) y 212 como malignos (M). Esto muestra una distribución desbalanceada pero común en conjuntos de datos médicos, donde una clase puede ser menos frecuente que otra."
   ]
  },
  {
   "cell_type": "code",
   "execution_count": 57,
   "metadata": {},
   "outputs": [
    {
     "data": {
      "image/png": "[encoded data removed]",
      "text/plain": [
       "<Figure size 640x480 with 1 Axes>"
      ]
     },
     "metadata": {},
     "output_type": "display_data"
    }
   ],
   "source": [
    "import matplotlib.pyplot as plt\n",
    "\n",
    "# Histograma de la primera característica numérica\n",
    "data[data.columns[1]].hist()\n",
    "plt.title('Distribución de la primera característica numérica')\n",
    "plt.show()\n"
   ]
  },
  {
   "cell_type": "code",
   "execution_count": null,
   "metadata": {},
   "outputs": [],
   "source": []
  },
  {
   "cell_type": "markdown",
   "metadata": {},
   "source": [
    "# Para entrenar modelos de clasificación utilizando el conjunto de datos de cáncer de mama de Wisconsin, debes seguir algunos pasos esenciales que involucran la preparación de los datos para el entrenamiento, la selección de los modelos, el entrenamiento y la validación de los modelos.\n",
    "\n",
    "Vamos a utilizar Scikit-learn, una biblioteca popular para machine learning en Python, para entrenar tres modelos diferentes:\n",
    "\n",
    "Árbol de decisión: Un modelo basado en la toma de decisiones a través de una estructura de árbol.\n",
    "Random Forest: Un método de ensamble que utiliza múltiples árboles de decisión para mejorar la estabilidad y precisión de la clasificación.\n",
    "Gradient Boosting: Otro método de ensamble que construye modelos de manera secuencial intentando corregir los errores de los modelos anteriores.\n",
    "A continuación te muestro cómo podrías realizar el entrenamiento de estos tres modelos:"
   ]
  },
  {
   "cell_type": "code",
   "execution_count": 58,
   "metadata": {},
   "outputs": [],
   "source": [
    "from sklearn.model_selection import train_test_split\n",
    "from sklearn.tree import DecisionTreeClassifier\n",
    "from sklearn.ensemble import RandomForestClassifier, GradientBoostingClassifier\n",
    "from sklearn.preprocessing import LabelEncoder\n",
    "from sklearn.metrics import accuracy_score"
   ]
  },
  {
   "cell_type": "code",
   "execution_count": 59,
   "metadata": {},
   "outputs": [],
   "source": [
    "# Codificación de las etiquetas 'M' y 'B' a numéricas\n",
    "le = LabelEncoder()\n",
    "y = le.fit_transform(data[1])"
   ]
  },
  {
   "cell_type": "code",
   "execution_count": 60,
   "metadata": {},
   "outputs": [],
   "source": [
    "# Preparar las características (excluir la primera columna que es un identificador y la segunda que es la etiqueta)\n",
    "X = data.drop([0, 1], axis=1)\n",
    "\n",
    "# Dividir los datos en conjuntos de entrenamiento y prueba\n",
    "X_train, X_test, y_train, y_test = train_test_split(X, y, test_size=0.3, random_state=42)\n"
   ]
  },
  {
   "cell_type": "code",
   "execution_count": 61,
   "metadata": {},
   "outputs": [],
   "source": [
    "# Inicializar los modelos\n",
    "decision_tree = DecisionTreeClassifier(random_state=42)\n",
    "random_forest = RandomForestClassifier(random_state=42)\n",
    "gradient_boosting = GradientBoostingClassifier(random_state=42)\n"
   ]
  },
  {
   "cell_type": "code",
   "execution_count": 62,
   "metadata": {},
   "outputs": [
    {
     "data": {
      "text/html": [
       "<style>#sk-container-id-3 {\n",
       "  /* Definition of color scheme common for light and dark mode */\n",
       "  --sklearn-color-text: black;\n",
       "  --sklearn-color-line: gray;\n",
       "  /* Definition of color scheme for unfitted estimators */\n",
       "  --sklearn-color-unfitted-level-0: #fff5e6;\n",
       "  --sklearn-color-unfitted-level-1: #f6e4d2;\n",
       "  --sklearn-color-unfitted-level-2: #ffe0b3;\n",
       "  --sklearn-color-unfitted-level-3: chocolate;\n",
       "  /* Definition of color scheme for fitted estimators */\n",
       "  --sklearn-color-fitted-level-0: #f0f8ff;\n",
       "  --sklearn-color-fitted-level-1: #d4ebff;\n",
       "  --sklearn-color-fitted-level-2: #b3dbfd;\n",
       "  --sklearn-color-fitted-level-3: cornflowerblue;\n",
       "\n",
       "  /* Specific color for light theme */\n",
       "  --sklearn-color-text-on-default-background: var(--sg-text-color, var(--theme-code-foreground, var(--jp-content-font-color1, black)));\n",
       "  --sklearn-color-background: var(--sg-background-color, var(--theme-background, var(--jp-layout-color0, white)));\n",
       "  --sklearn-color-border-box: var(--sg-text-color, var(--theme-code-foreground, var(--jp-content-font-color1, black)));\n",
       "  --sklearn-color-icon: #696969;\n",
       "\n",
       "  @media (prefers-color-scheme: dark) {\n",
       "    /* Redefinition of color scheme for dark theme */\n",
       "    --sklearn-color-text-on-default-background: var(--sg-text-color, var(--theme-code-foreground, var(--jp-content-font-color1, white)));\n",
       "    --sklearn-color-background: var(--sg-background-color, var(--theme-background, var(--jp-layout-color0, #111)));\n",
       "    --sklearn-color-border-box: var(--sg-text-color, var(--theme-code-foreground, var(--jp-content-font-color1, white)));\n",
       "    --sklearn-color-icon: #878787;\n",
       "  }\n",
       "}\n",
       "\n",
       "#sk-container-id-3 {\n",
       "  color: var(--sklearn-color-text);\n",
       "}\n",
       "\n",
       "#sk-container-id-3 pre {\n",
       "  padding: 0;\n",
       "}\n",
       "\n",
       "#sk-container-id-3 input.sk-hidden--visually {\n",
       "  border: 0;\n",
       "  clip: rect(1px 1px 1px 1px);\n",
       "  clip: rect(1px, 1px, 1px, 1px);\n",
       "  height: 1px;\n",
       "  margin: -1px;\n",
       "  overflow: hidden;\n",
       "  padding: 0;\n",
       "  position: absolute;\n",
       "  width: 1px;\n",
       "}\n",
       "\n",
       "#sk-container-id-3 div.sk-dashed-wrapped {\n",
       "  border: 1px dashed var(--sklearn-color-line);\n",
       "  margin: 0 0.4em 0.5em 0.4em;\n",
       "  box-sizing: border-box;\n",
       "  padding-bottom: 0.4em;\n",
       "  background-color: var(--sklearn-color-background);\n",
       "}\n",
       "\n",
       "#sk-container-id-3 div.sk-container {\n",
       "  /* jupyter's `normalize.less` sets `[hidden] { display: none; }`\n",
       "     but bootstrap.min.css set `[hidden] { display: none !important; }`\n",
       "     so we also need the `!important` here to be able to override the\n",
       "     default hidden behavior on the sphinx rendered scikit-learn.org.\n",
       "     See: https://github.com/scikit-learn/scikit-learn/issues/21755 */\n",
       "  display: inline-block !important;\n",
       "  position: relative;\n",
       "}\n",
       "\n",
       "#sk-container-id-3 div.sk-text-repr-fallback {\n",
       "  display: none;\n",
       "}\n",
       "\n",
       "div.sk-parallel-item,\n",
       "div.sk-serial,\n",
       "div.sk-item {\n",
       "  /* draw centered vertical line to link estimators */\n",
       "  background-image: linear-gradient(var(--sklearn-color-text-on-default-background), var(--sklearn-color-text-on-default-background));\n",
       "  background-size: 2px 100%;\n",
       "  background-repeat: no-repeat;\n",
       "  background-position: center center;\n",
       "}\n",
       "\n",
       "/* Parallel-specific style estimator block */\n",
       "\n",
       "#sk-container-id-3 div.sk-parallel-item::after {\n",
       "  content: \"\";\n",
       "  width: 100%;\n",
       "  border-bottom: 2px solid var(--sklearn-color-text-on-default-background);\n",
       "  flex-grow: 1;\n",
       "}\n",
       "\n",
       "#sk-container-id-3 div.sk-parallel {\n",
       "  display: flex;\n",
       "  align-items: stretch;\n",
       "  justify-content: center;\n",
       "  background-color: var(--sklearn-color-background);\n",
       "  position: relative;\n",
       "}\n",
       "\n",
       "#sk-container-id-3 div.sk-parallel-item {\n",
       "  display: flex;\n",
       "  flex-direction: column;\n",
       "}\n",
       "\n",
       "#sk-container-id-3 div.sk-parallel-item:first-child::after {\n",
       "  align-self: flex-end;\n",
       "  width: 50%;\n",
       "}\n",
       "\n",
       "#sk-container-id-3 div.sk-parallel-item:last-child::after {\n",
       "  align-self: flex-start;\n",
       "  width: 50%;\n",
       "}\n",
       "\n",
       "#sk-container-id-3 div.sk-parallel-item:only-child::after {\n",
       "  width: 0;\n",
       "}\n",
       "\n",
       "/* Serial-specific style estimator block */\n",
       "\n",
       "#sk-container-id-3 div.sk-serial {\n",
       "  display: flex;\n",
       "  flex-direction: column;\n",
       "  align-items: center;\n",
       "  background-color: var(--sklearn-color-background);\n",
       "  padding-right: 1em;\n",
       "  padding-left: 1em;\n",
       "}\n",
       "\n",
       "\n",
       "/* Toggleable style: style used for estimator/Pipeline/ColumnTransformer box that is\n",
       "clickable and can be expanded/collapsed.\n",
       "- Pipeline and ColumnTransformer use this feature and define the default style\n",
       "- Estimators will overwrite some part of the style using the `sk-estimator` class\n",
       "*/\n",
       "\n",
       "/* Pipeline and ColumnTransformer style (default) */\n",
       "\n",
       "#sk-container-id-3 div.sk-toggleable {\n",
       "  /* Default theme specific background. It is overwritten whether we have a\n",
       "  specific estimator or a Pipeline/ColumnTransformer */\n",
       "  background-color: var(--sklearn-color-background);\n",
       "}\n",
       "\n",
       "/* Toggleable label */\n",
       "#sk-container-id-3 label.sk-toggleable__label {\n",
       "  cursor: pointer;\n",
       "  display: block;\n",
       "  width: 100%;\n",
       "  margin-bottom: 0;\n",
       "  padding: 0.5em;\n",
       "  box-sizing: border-box;\n",
       "  text-align: center;\n",
       "}\n",
       "\n",
       "#sk-container-id-3 label.sk-toggleable__label-arrow:before {\n",
       "  /* Arrow on the left of the label */\n",
       "  content: \"▸\";\n",
       "  float: left;\n",
       "  margin-right: 0.25em;\n",
       "  color: var(--sklearn-color-icon);\n",
       "}\n",
       "\n",
       "#sk-container-id-3 label.sk-toggleable__label-arrow:hover:before {\n",
       "  color: var(--sklearn-color-text);\n",
       "}\n",
       "\n",
       "/* Toggleable content - dropdown */\n",
       "\n",
       "#sk-container-id-3 div.sk-toggleable__content {\n",
       "  max-height: 0;\n",
       "  max-width: 0;\n",
       "  overflow: hidden;\n",
       "  text-align: left;\n",
       "  /* unfitted */\n",
       "  background-color: var(--sklearn-color-unfitted-level-0);\n",
       "}\n",
       "\n",
       "#sk-container-id-3 div.sk-toggleable__content.fitted {\n",
       "  /* fitted */\n",
       "  background-color: var(--sklearn-color-fitted-level-0);\n",
       "}\n",
       "\n",
       "#sk-container-id-3 div.sk-toggleable__content pre {\n",
       "  margin: 0.2em;\n",
       "  border-radius: 0.25em;\n",
       "  color: var(--sklearn-color-text);\n",
       "  /* unfitted */\n",
       "  background-color: var(--sklearn-color-unfitted-level-0);\n",
       "}\n",
       "\n",
       "#sk-container-id-3 div.sk-toggleable__content.fitted pre {\n",
       "  /* unfitted */\n",
       "  background-color: var(--sklearn-color-fitted-level-0);\n",
       "}\n",
       "\n",
       "#sk-container-id-3 input.sk-toggleable__control:checked~div.sk-toggleable__content {\n",
       "  /* Expand drop-down */\n",
       "  max-height: 200px;\n",
       "  max-width: 100%;\n",
       "  overflow: auto;\n",
       "}\n",
       "\n",
       "#sk-container-id-3 input.sk-toggleable__control:checked~label.sk-toggleable__label-arrow:before {\n",
       "  content: \"▾\";\n",
       "}\n",
       "\n",
       "/* Pipeline/ColumnTransformer-specific style */\n",
       "\n",
       "#sk-container-id-3 div.sk-label input.sk-toggleable__control:checked~label.sk-toggleable__label {\n",
       "  color: var(--sklearn-color-text);\n",
       "  background-color: var(--sklearn-color-unfitted-level-2);\n",
       "}\n",
       "\n",
       "#sk-container-id-3 div.sk-label.fitted input.sk-toggleable__control:checked~label.sk-toggleable__label {\n",
       "  background-color: var(--sklearn-color-fitted-level-2);\n",
       "}\n",
       "\n",
       "/* Estimator-specific style */\n",
       "\n",
       "/* Colorize estimator box */\n",
       "#sk-container-id-3 div.sk-estimator input.sk-toggleable__control:checked~label.sk-toggleable__label {\n",
       "  /* unfitted */\n",
       "  background-color: var(--sklearn-color-unfitted-level-2);\n",
       "}\n",
       "\n",
       "#sk-container-id-3 div.sk-estimator.fitted input.sk-toggleable__control:checked~label.sk-toggleable__label {\n",
       "  /* fitted */\n",
       "  background-color: var(--sklearn-color-fitted-level-2);\n",
       "}\n",
       "\n",
       "#sk-container-id-3 div.sk-label label.sk-toggleable__label,\n",
       "#sk-container-id-3 div.sk-label label {\n",
       "  /* The background is the default theme color */\n",
       "  color: var(--sklearn-color-text-on-default-background);\n",
       "}\n",
       "\n",
       "/* On hover, darken the color of the background */\n",
       "#sk-container-id-3 div.sk-label:hover label.sk-toggleable__label {\n",
       "  color: var(--sklearn-color-text);\n",
       "  background-color: var(--sklearn-color-unfitted-level-2);\n",
       "}\n",
       "\n",
       "/* Label box, darken color on hover, fitted */\n",
       "#sk-container-id-3 div.sk-label.fitted:hover label.sk-toggleable__label.fitted {\n",
       "  color: var(--sklearn-color-text);\n",
       "  background-color: var(--sklearn-color-fitted-level-2);\n",
       "}\n",
       "\n",
       "/* Estimator label */\n",
       "\n",
       "#sk-container-id-3 div.sk-label label {\n",
       "  font-family: monospace;\n",
       "  font-weight: bold;\n",
       "  display: inline-block;\n",
       "  line-height: 1.2em;\n",
       "}\n",
       "\n",
       "#sk-container-id-3 div.sk-label-container {\n",
       "  text-align: center;\n",
       "}\n",
       "\n",
       "/* Estimator-specific */\n",
       "#sk-container-id-3 div.sk-estimator {\n",
       "  font-family: monospace;\n",
       "  border: 1px dotted var(--sklearn-color-border-box);\n",
       "  border-radius: 0.25em;\n",
       "  box-sizing: border-box;\n",
       "  margin-bottom: 0.5em;\n",
       "  /* unfitted */\n",
       "  background-color: var(--sklearn-color-unfitted-level-0);\n",
       "}\n",
       "\n",
       "#sk-container-id-3 div.sk-estimator.fitted {\n",
       "  /* fitted */\n",
       "  background-color: var(--sklearn-color-fitted-level-0);\n",
       "}\n",
       "\n",
       "/* on hover */\n",
       "#sk-container-id-3 div.sk-estimator:hover {\n",
       "  /* unfitted */\n",
       "  background-color: var(--sklearn-color-unfitted-level-2);\n",
       "}\n",
       "\n",
       "#sk-container-id-3 div.sk-estimator.fitted:hover {\n",
       "  /* fitted */\n",
       "  background-color: var(--sklearn-color-fitted-level-2);\n",
       "}\n",
       "\n",
       "/* Specification for estimator info (e.g. \"i\" and \"?\") */\n",
       "\n",
       "/* Common style for \"i\" and \"?\" */\n",
       "\n",
       ".sk-estimator-doc-link,\n",
       "a:link.sk-estimator-doc-link,\n",
       "a:visited.sk-estimator-doc-link {\n",
       "  float: right;\n",
       "  font-size: smaller;\n",
       "  line-height: 1em;\n",
       "  font-family: monospace;\n",
       "  background-color: var(--sklearn-color-background);\n",
       "  border-radius: 1em;\n",
       "  height: 1em;\n",
       "  width: 1em;\n",
       "  text-decoration: none !important;\n",
       "  margin-left: 1ex;\n",
       "  /* unfitted */\n",
       "  border: var(--sklearn-color-unfitted-level-1) 1pt solid;\n",
       "  color: var(--sklearn-color-unfitted-level-1);\n",
       "}\n",
       "\n",
       ".sk-estimator-doc-link.fitted,\n",
       "a:link.sk-estimator-doc-link.fitted,\n",
       "a:visited.sk-estimator-doc-link.fitted {\n",
       "  /* fitted */\n",
       "  border: var(--sklearn-color-fitted-level-1) 1pt solid;\n",
       "  color: var(--sklearn-color-fitted-level-1);\n",
       "}\n",
       "\n",
       "/* On hover */\n",
       "div.sk-estimator:hover .sk-estimator-doc-link:hover,\n",
       ".sk-estimator-doc-link:hover,\n",
       "div.sk-label-container:hover .sk-estimator-doc-link:hover,\n",
       ".sk-estimator-doc-link:hover {\n",
       "  /* unfitted */\n",
       "  background-color: var(--sklearn-color-unfitted-level-3);\n",
       "  color: var(--sklearn-color-background);\n",
       "  text-decoration: none;\n",
       "}\n",
       "\n",
       "div.sk-estimator.fitted:hover .sk-estimator-doc-link.fitted:hover,\n",
       ".sk-estimator-doc-link.fitted:hover,\n",
       "div.sk-label-container:hover .sk-estimator-doc-link.fitted:hover,\n",
       ".sk-estimator-doc-link.fitted:hover {\n",
       "  /* fitted */\n",
       "  background-color: var(--sklearn-color-fitted-level-3);\n",
       "  color: var(--sklearn-color-background);\n",
       "  text-decoration: none;\n",
       "}\n",
       "\n",
       "/* Span, style for the box shown on hovering the info icon */\n",
       ".sk-estimator-doc-link span {\n",
       "  display: none;\n",
       "  z-index: 9999;\n",
       "  position: relative;\n",
       "  font-weight: normal;\n",
       "  right: .2ex;\n",
       "  padding: .5ex;\n",
       "  margin: .5ex;\n",
       "  width: min-content;\n",
       "  min-width: 20ex;\n",
       "  max-width: 50ex;\n",
       "  color: var(--sklearn-color-text);\n",
       "  box-shadow: 2pt 2pt 4pt #999;\n",
       "  /* unfitted */\n",
       "  background: var(--sklearn-color-unfitted-level-0);\n",
       "  border: .5pt solid var(--sklearn-color-unfitted-level-3);\n",
       "}\n",
       "\n",
       ".sk-estimator-doc-link.fitted span {\n",
       "  /* fitted */\n",
       "  background: var(--sklearn-color-fitted-level-0);\n",
       "  border: var(--sklearn-color-fitted-level-3);\n",
       "}\n",
       "\n",
       ".sk-estimator-doc-link:hover span {\n",
       "  display: block;\n",
       "}\n",
       "\n",
       "/* \"?\"-specific style due to the `<a>` HTML tag */\n",
       "\n",
       "#sk-container-id-3 a.estimator_doc_link {\n",
       "  float: right;\n",
       "  font-size: 1rem;\n",
       "  line-height: 1em;\n",
       "  font-family: monospace;\n",
       "  background-color: var(--sklearn-color-background);\n",
       "  border-radius: 1rem;\n",
       "  height: 1rem;\n",
       "  width: 1rem;\n",
       "  text-decoration: none;\n",
       "  /* unfitted */\n",
       "  color: var(--sklearn-color-unfitted-level-1);\n",
       "  border: var(--sklearn-color-unfitted-level-1) 1pt solid;\n",
       "}\n",
       "\n",
       "#sk-container-id-3 a.estimator_doc_link.fitted {\n",
       "  /* fitted */\n",
       "  border: var(--sklearn-color-fitted-level-1) 1pt solid;\n",
       "  color: var(--sklearn-color-fitted-level-1);\n",
       "}\n",
       "\n",
       "/* On hover */\n",
       "#sk-container-id-3 a.estimator_doc_link:hover {\n",
       "  /* unfitted */\n",
       "  background-color: var(--sklearn-color-unfitted-level-3);\n",
       "  color: var(--sklearn-color-background);\n",
       "  text-decoration: none;\n",
       "}\n",
       "\n",
       "#sk-container-id-3 a.estimator_doc_link.fitted:hover {\n",
       "  /* fitted */\n",
       "  background-color: var(--sklearn-color-fitted-level-3);\n",
       "}\n",
       "</style><div id=\"sk-container-id-3\" class=\"sk-top-container\"><div class=\"sk-text-repr-fallback\"><pre>GradientBoostingClassifier(random_state=42)</pre><b>In a Jupyter environment, please rerun this cell to show the HTML representation or trust the notebook. <br />On GitHub, the HTML representation is unable to render, please try loading this page with nbviewer.org.</b></div><div class=\"sk-container\" hidden><div class=\"sk-item\"><div class=\"sk-estimator fitted sk-toggleable\"><input class=\"sk-toggleable__control sk-hidden--visually\" id=\"sk-estimator-id-3\" type=\"checkbox\" checked><label for=\"sk-estimator-id-3\" class=\"sk-toggleable__label fitted sk-toggleable__label-arrow fitted\">&nbsp;&nbsp;GradientBoostingClassifier<a class=\"sk-estimator-doc-link fitted\" rel=\"noreferrer\" target=\"_blank\" href=\"https://scikit-learn.org/1.4/modules/generated/sklearn.ensemble.GradientBoostingClassifier.html\">?<span>Documentation for GradientBoostingClassifier</span></a><span class=\"sk-estimator-doc-link fitted\">i<span>Fitted</span></span></label><div class=\"sk-toggleable__content fitted\"><pre>GradientBoostingClassifier(random_state=42)</pre></div> </div></div></div></div>"
      ],
      "text/plain": [
       "GradientBoostingClassifier(random_state=42)"
      ]
     },
     "execution_count": 62,
     "metadata": {},
     "output_type": "execute_result"
    }
   ],
   "source": [
    "# Entrenar los modelos\n",
    "decision_tree.fit(X_train, y_train)\n",
    "random_forest.fit(X_train, y_train)\n",
    "gradient_boosting.fit(X_train, y_train)\n"
   ]
  },
  {
   "cell_type": "code",
   "execution_count": 63,
   "metadata": {},
   "outputs": [],
   "source": [
    "# Hacer predicciones con cada modelo\n",
    "dt_pred = decision_tree.predict(X_test)\n",
    "rf_pred = random_forest.predict(X_test)\n",
    "gb_pred = gradient_boosting.predict(X_test)\n"
   ]
  },
  {
   "cell_type": "code",
   "execution_count": 64,
   "metadata": {},
   "outputs": [],
   "source": [
    "# Calcular la precisión de cada modelo\n",
    "dt_accuracy = accuracy_score(y_test, dt_pred)\n",
    "rf_accuracy = accuracy_score(y_test, rf_pred)\n",
    "gb_accuracy = accuracy_score(y_test, gb_pred)\n"
   ]
  },
  {
   "cell_type": "code",
   "execution_count": 65,
   "metadata": {},
   "outputs": [
    {
     "name": "stdout",
     "output_type": "stream",
     "text": [
      "Precisión del Árbol de Decisión: 0.94\n",
      "Precisión del Random Forest: 0.97\n",
      "Precisión del Gradient Boosting: 0.96\n"
     ]
    }
   ],
   "source": [
    "print(f'Precisión del Árbol de Decisión: {dt_accuracy:.2f}')\n",
    "print(f'Precisión del Random Forest: {rf_accuracy:.2f}')\n",
    "print(f'Precisión del Gradient Boosting: {gb_accuracy:.2f}')"
   ]
  },
  {
   "cell_type": "markdown",
   "metadata": {},
   "source": [
    "\n",
    "# Interpretación de resultados \n",
    "Precisión del Árbol de Decisión:\n",
    "\n",
    "La precisión mide la proporción de predicciones correctas (tanto verdaderos positivos como verdaderos negativos) entre todas las predicciones realizadas.\n",
    "Una precisión alta en el árbol de decisión significa que el modelo ha establecido buenas reglas de decisión basadas en las características de los datos para clasificar las muestras correctamente.\n",
    "Si la precisión es baja, puede ser un indicativo de sobreajuste (el modelo es demasiado complejo y memoriza los datos) o de subajuste (el modelo es demasiado simple y no aprende suficientemente bien las relaciones en los datos).\n",
    "Precisión del Random Forest:\n",
    "\n",
    "Como método de ensamble que combina múltiples árboles de decisión, una alta precisión indica que el modelo ha logrado un buen equilibrio entre el sesgo y la varianza, generalizando mejor que un solo árbol de decisión.\n",
    "Random Forest tiende a funcionar bien en la mayoría de los conjuntos de datos debido a la agregación de múltiples árboles, lo que reduce el riesgo de sobreajuste.\n",
    "Si Random Forest tiene una precisión significativamente más alta que el árbol de decisión individual, eso sugiere que el ensamble de árboles está capturando patrones más complejos en los datos.\n",
    "Precisión del Gradient Boosting:\n",
    "\n",
    "Gradient Boosting construye árboles de forma secuencial, donde cada árbol intenta corregir los errores del anterior. Una alta precisión refleja que esta estrategia está siendo efectiva.\n",
    "Al igual que con Random Forest, una alta precisión indica una buena generalización y que el modelo es capaz de capturar la dinámica subyacente de los datos.\n",
    "Si el Gradient Boosting tiene la precisión más alta, podría indicar que el método es particularmente adecuado para tu conjunto de datos, aprovechando su capacidad de minimizar errores de forma iterativa y progresiva.\n"
   ]
  },
  {
   "cell_type": "markdown",
   "metadata": {},
   "source": [
    "# Creo un gráfico, para visualmente ayudar a la interpretación "
   ]
  },
  {
   "cell_type": "code",
   "execution_count": 66,
   "metadata": {},
   "outputs": [
    {
     "data": {
      "image/png": "[encoded data removed]",
      "text/plain": [
       "<Figure size 640x480 with 1 Axes>"
      ]
     },
     "metadata": {},
     "output_type": "display_data"
    }
   ],
   "source": [
    "import matplotlib.pyplot as plt\n",
    "\n",
    "# Supongamos que ya tienes calculadas las precisiones de los modelos en variables\n",
    "# dt_accuracy, rf_accuracy, gb_accuracy\n",
    "\n",
    "# Nombres de los modelos\n",
    "model_names = ['Árbol de Decisión', 'Random Forest', 'Gradient Boosting']\n",
    "\n",
    "# Precisión de los modelos\n",
    "accuracies = [dt_accuracy, rf_accuracy, gb_accuracy]\n",
    "\n",
    "# Crear el gráfico de barras\n",
    "plt.bar(model_names, accuracies, color=['blue', 'green', 'red'])\n",
    "\n",
    "# Añadir título y etiquetas a los ejes\n",
    "plt.title('Comparación de la Precisión de los Modelos de Clasificación')\n",
    "plt.xlabel('Modelos')\n",
    "plt.ylabel('Precisión')\n",
    "\n",
    "# Mostrar el valor de la precisión sobre las barras\n",
    "for i in range(len(accuracies)):\n",
    "    plt.text(i, accuracies[i], f'{accuracies[i]:.2f}', ha='center', va='bottom')\n",
    "\n",
    "# Mostrar el gráfico\n",
    "plt.tight_layout()\n",
    "plt.show()\n"
   ]
  },
  {
   "cell_type": "markdown",
   "metadata": {},
   "source": [
    "# Después de haber preparado los datos, el siguiente paso en tu taller sería entrenar modelos de clasificación y evaluar su rendimiento. La matriz de confusión, el reporte de clasificación y la curva ROC son herramientas estándar para evaluar modelos de clasificación."
   ]
  },
  {
   "cell_type": "markdown",
   "metadata": {},
   "source": [
    "Matriz de Confusión\n",
    "Una matriz de confusión es una tabla que se utiliza para describir el rendimiento de un modelo de clasificación. Las filas representan las instancias en la clase real y las columnas las instancias en la clase predicha, o viceversa."
   ]
  },
  {
   "cell_type": "code",
   "execution_count": 70,
   "metadata": {},
   "outputs": [],
   "source": [
    "from sklearn.metrics import confusion_matrix, classification_report\n",
    "import seaborn as sns\n",
    "import matplotlib.pyplot as plt"
   ]
  },
  {
   "cell_type": "code",
   "execution_count": 71,
   "metadata": {},
   "outputs": [],
   "source": [
    "# Ahora calculamos las matrices de confusión para cada modelo\n",
    "confusion_matrix_dt = confusion_matrix(y_test, dt_pred)\n",
    "confusion_matrix_rf = confusion_matrix(y_test, rf_pred)\n",
    "confusion_matrix_gb = confusion_matrix(y_test, gb_pred)\n"
   ]
  },
  {
   "cell_type": "code",
   "execution_count": 72,
   "metadata": {},
   "outputs": [],
   "source": [
    "# Función para visualizar la matriz de confusión\n",
    "def plot_confusion_matrix(cm, model_name, title='Matriz de Confusión'):\n",
    "    plt.figure(figsize=(8,6))\n",
    "    sns.heatmap(cm, annot=True, fmt='d', cmap='Blues')\n",
    "    plt.xlabel('Predicted')\n",
    "    plt.ylabel('True')\n",
    "    plt.title(f'{title} - {model_name}')\n",
    "    plt.show()"
   ]
  },
  {
   "cell_type": "code",
   "execution_count": 73,
   "metadata": {},
   "outputs": [
    {
     "data": {
      "image/png": "[encoded data removed]",
      "text/plain": [
       "<Figure size 800x600 with 2 Axes>"
      ]
     },
     "metadata": {},
     "output_type": "display_data"
    },
    {
     "data": {
      "image/png": "[encoded data removed]",
      "text/plain": [
       "<Figure size 800x600 with 2 Axes>"
      ]
     },
     "metadata": {},
     "output_type": "display_data"
    },
    {
     "data": {
      "image/png": "[encoded data removed]",
      "text/plain": [
       "<Figure size 800x600 with 2 Axes>"
      ]
     },
     "metadata": {},
     "output_type": "display_data"
    }
   ],
   "source": [
    "# Visualizamos las matrices de confusión para cada modelo\n",
    "plot_confusion_matrix(confusion_matrix_dt, 'Árbol de Decisión')\n",
    "plot_confusion_matrix(confusion_matrix_rf, 'Random Forest')\n",
    "plot_confusion_matrix(confusion_matrix_gb, 'Gradient Boosting')"
   ]
  },
  {
   "cell_type": "markdown",
   "metadata": {},
   "source": [
    "# Matriz de Confusión - Árbol de Decisión\n",
    "Verdaderos positivos (TP): 101. Es el número de instancias que fueron positivas y el modelo predijo correctamente como positivas.\n",
    "Falsos negativos (FN): 7. Son las instancias que eran positivas pero el modelo las predijo erróneamente como negativas.\n",
    "Verdaderos negativos (TN): Este valor no se muestra en la matriz proporcionada, pero será la casilla inferior derecha.\n",
    "Falsos positivos (FP): Este valor tampoco se muestra, pero será la casilla inferior izquierda.\n",
    "En términos generales, un número alto de TP y TN en comparación con los valores de FP y FN es indicativo de un buen rendimiento.\n",
    "De este analisis y visualizando las otras matrices de confusion, reandon forest , es el modelo mas util para este modelos "
   ]
  },
  {
   "cell_type": "code",
   "execution_count": 74,
   "metadata": {},
   "outputs": [
    {
     "name": "stdout",
     "output_type": "stream",
     "text": [
      "Reporte de Árbol de Decisión:\n",
      "               precision    recall  f1-score   support\n",
      "\n",
      "           0       0.97      0.94      0.95       108\n",
      "           1       0.90      0.95      0.92        63\n",
      "\n",
      "    accuracy                           0.94       171\n",
      "   macro avg       0.93      0.94      0.94       171\n",
      "weighted avg       0.94      0.94      0.94       171\n",
      "\n",
      "Reporte de Random Forest:\n",
      "               precision    recall  f1-score   support\n",
      "\n",
      "           0       0.96      0.99      0.98       108\n",
      "           1       0.98      0.94      0.96        63\n",
      "\n",
      "    accuracy                           0.97       171\n",
      "   macro avg       0.97      0.96      0.97       171\n",
      "weighted avg       0.97      0.97      0.97       171\n",
      "\n",
      "Reporte de Gradient Boosting:\n",
      "               precision    recall  f1-score   support\n",
      "\n",
      "           0       0.96      0.97      0.97       108\n",
      "           1       0.95      0.94      0.94        63\n",
      "\n",
      "    accuracy                           0.96       171\n",
      "   macro avg       0.96      0.95      0.96       171\n",
      "weighted avg       0.96      0.96      0.96       171\n",
      "\n"
     ]
    }
   ],
   "source": [
    "# También podríamos querer imprimir los reportes de clasificación para cada modelo\n",
    "print('Reporte de Árbol de Decisión:\\n', classification_report(y_test, dt_pred))\n",
    "print('Reporte de Random Forest:\\n', classification_report(y_test, rf_pred))\n",
    "print('Reporte de Gradient Boosting:\\n', classification_report(y_test, gb_pred))\n"
   ]
  },
  {
   "cell_type": "markdown",
   "metadata": {},
   "source": []
  },
  {
   "cell_type": "markdown",
   "metadata": {},
   "source": [
    "# Análisis de la Curva ROC\n",
    "La curva ROC (Receiver Operating Characteristic) es un gráfico que muestra el rendimiento de un modelo de clasificación a todos los niveles de umbral de clasificación. Esta curva traza la tasa de verdaderos positivos frente a la tasa de falsos positivos."
   ]
  },
  {
   "cell_type": "code",
   "execution_count": 75,
   "metadata": {},
   "outputs": [],
   "source": [
    "from sklearn.metrics import roc_curve, auc, RocCurveDisplay\n",
    "import matplotlib.pyplot as plt\n",
    "\n",
    "# Calcular las tasas de verdaderos y falsos positivos y los umbrales\n",
    "fpr_dt, tpr_dt, _ = roc_curve(y_test, dt_pred)\n",
    "fpr_rf, tpr_rf, _ = roc_curve(y_test, rf_pred)\n",
    "fpr_gb, tpr_gb, _ = roc_curve(y_test, gb_pred)\n",
    "\n",
    "# Calcular el AUC para cada modelo\n",
    "auc_dt = auc(fpr_dt, tpr_dt)\n",
    "auc_rf = auc(fpr_rf, tpr_rf)\n",
    "auc_gb = auc(fpr_gb, tpr_gb)\n"
   ]
  },
  {
   "cell_type": "code",
   "execution_count": 76,
   "metadata": {},
   "outputs": [
    {
     "data": {
      "image/png": "[encoded data removed]",
      "text/plain": [
       "<Figure size 1000x800 with 1 Axes>"
      ]
     },
     "metadata": {},
     "output_type": "display_data"
    }
   ],
   "source": [
    "# Graficar la Curva ROC para cada modelo\n",
    "plt.figure(figsize=(10, 8))\n",
    "\n",
    "for model, fpr, tpr, auc in zip(['Árbol de Decisión', 'Random Forest', 'Gradient Boosting'],\n",
    "                                [fpr_dt, fpr_rf, fpr_gb],\n",
    "                                [tpr_dt, tpr_rf, tpr_gb],\n",
    "                                [auc_dt, auc_rf, auc_gb]):\n",
    "    plt.plot(fpr, tpr, label=f'{model} (AUC = {auc:.2f})')\n",
    "\n",
    "plt.plot([0, 1], [0, 1], 'k--', label='Azar (AUC = 0.5)')\n",
    "plt.xlim([0.0, 1.0])\n",
    "plt.ylim([0.0, 1.05])\n",
    "plt.xlabel('Tasa de Falsos Positivos')\n",
    "plt.ylabel('Tasa de Verdaderos Positivos')\n",
    "plt.title('Curva ROC')\n",
    "plt.legend(loc='lower right')\n",
    "plt.show()\n"
   ]
  },
  {
   "cell_type": "markdown",
   "metadata": {},
   "source": [
    "# Las métricas que has compartido son muy informativas para entender el rendimiento de tus modelos. Aquí vamos a definir cada término y luego discutir el desempeño específico de tus modelos de clasificación:\n",
    "\n",
    "Precisión (Precision): Es la proporción de predicciones positivas que fueron correctas. Se calcula como TP / (TP + FP). Una alta precisión indica que un modelo genera pocas falsas alarmas.\n",
    "\n",
    "Recuperación (Recall): También conocido como sensibilidad, tasa de verdaderos positivos o probabilidad de detección, es la proporción de casos positivos reales que fueron correctamente identificados por el modelo. Se calcula como TP / (TP + FN). Un alto recall es crucial cuando los costos de los falsos negativos son altos.\n",
    "\n",
    "Puntuación F1 (F1 Score): Es la media armónica de la precisión y el recall. Combina ambas métricas en una sola, siendo útil cuando se necesita un equilibrio entre precisión y recall.\n",
    "\n",
    "Soporte (Support): Es el número de ocurrencias reales de la clase en el conjunto de datos especificado.\n",
    "\n",
    "Para tus modelos:\n",
    "\n",
    "Árbol de Decisión\n",
    "La precisión para la clase negativa (0) es muy alta, lo que indica que cuando el modelo predice la clase negativa, es muy probable que sea correcto.\n",
    "El recall para la clase positiva (1) es también alto, lo que sugiere que el modelo es bueno detectando la clase positiva.\n",
    "La puntuación F1 es alta para ambas clases, lo que indica un buen equilibrio entre precisión y recall.\n",
    "Random Forest\n",
    "Este modelo tiene una precisión y recall excelentes en ambas clases, lo que sugiere que es muy bueno tanto en la precisión de sus predicciones como en la identificación de todas las instancias positivas.\n",
    "El puntaje F1 es también el más alto entre los tres modelos, indicando un excelente equilibrio entre precisión y recall.\n"
   ]
  }
 ],
 "metadata": {
  "kernelspec": {
   "display_name": ".venv",
   "language": "python",
   "name": "python3"
  },
  "language_info": {
   "codemirror_mode": {
    "name": "ipython",
    "version": 3
   },
   "file_extension": ".py",
   "mimetype": "text/x-python",
   "name": "python",
   "nbconvert_exporter": "python",
   "pygments_lexer": "ipython3",
   "version": "3.12.0"
  }
 },
 "nbformat": 4,
 "nbformat_minor": 2
}
